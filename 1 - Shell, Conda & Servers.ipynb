{
 "cells": [
  {
   "cell_type": "markdown",
   "metadata": {},
   "source": [
    "# Shell\n",
    "<img src=\"Images/bash.png\" alt=\"Bash\" align=\"right\">\n",
    "\n",
    "Let's pick up where we left off. Last time we finished by learning how to use git, I emphasized the use of **terminal (aka shell)** over GUI.\n",
    "Don't be scared of the shell! Even if you learn only the most basic commands (which you will, in the next few minutes) it will make your life much easier. The key skills you need and will learn are:\n",
    "- Navigating the file system (aka folders)\n",
    "- Basic file manipulation (copying, moving, deleting, renaming)\n",
    "- Creating and viewing simple text files\n",
    "- Writing simple scripts\n",
    "- Downloading files ***from the terminal***\n",
    "- Some miscalenous things, like file permissions and customizing bash"
   ]
  },
  {
   "cell_type": "markdown",
   "metadata": {},
   "source": [
    "## Basic file system navigation and file manipulation\n",
    "\n",
    "I won't write any explanatin here, because the readings bellow do it so much better. **Take your time and read through them!** Also, don't be afraid of trying out some things that they show you in the tutorial -- you literally just have to write a few words in your terminal and hit Enter :)\n",
    "\n",
    "1. [Introduction to the shell](http://swcarpentry.github.io/shell-novice/01-intro/index.html)\n",
    "2. [Navigating files and directories](http://swcarpentry.github.io/shell-novice/02-filedir/index.html)\n",
    "3. [Working with files and directories](http://swcarpentry.github.io/shell-novice/03-create/index.html)\n",
    "\n",
    "### Exercises\n",
    "\n",
    "Now that you have carefully read through the readings, tried some stuff out on your own, it's time to test your knowledge with exercises! As usual, write out your solutions in the code bellow, and don't forget the proper code formatting (consult the previous lecture if needed). There are a lot of exercises, but all of them are really simple.\n",
    "\n",
    "1. Open a new terminal window (or, if you're a real pro, open a new tab in the current terminal window - the one running Jupyter lab). Check what is the current directory and check its contents.\n",
    "2. Navigate to the tutorial folder.\n",
    "3. Ok, let's go to your Downloads folder - in one `cd` command, without using `..`.\n",
    "4. Now let's go back to the tutorial folder - in one command of course, without using `~`.\n",
    "6. Go to the images folder. Check out how big are the files, in a human readable format (hint -- this was shown in the readings). \n",
    "7. Now go back **2** directories. You should end up in the Documents folder.\n",
    "8. Create a directory called `simple-text`, and inside it a text file called `text1.txt`, write whatever in it. Rename the file `whatever.txt`. Print the contents of the file (hint: use the `cat` command).\n",
    "9. Ok, navigate to the tutorial folder. From there, copy the text file created in the previous step, and after that, delete the entire folder created in the previous step (hint: this one is just a bit more sophisticated than the rest).\n",
    "10. Delete the file you copied in the previous step - and done!\n"
   ]
  },
  {
   "cell_type": "markdown",
   "metadata": {},
   "source": [
    "----\n",
    "1. Write solutions (the `code`) to your exercises here, and don't forget proper\n",
    "```\n",
    "code formatting\n",
    "```"
   ]
  },
  {
   "cell_type": "markdown",
   "metadata": {},
   "source": [
    "## Writing scripts, downloading, and the rest\n",
    "\n",
    "Now you'll lear a few independent, yet very useful skills (execpt for piping/filtering, you'll need to use all of them later in this course). First off, you'll take a look at pipes and filters, which enable you to combine shell commands. This isn't something you will write a lot on your own, but you will see it in many places, so it's important that you understand it. Next, you'll learn about file permissionions in Unix systems (you'll bump against this when you will be creating scripts (executables) or public keys!). After that, you'll learn how to download files from the terminal (the main use of this is in automating installations).\n",
    "\n",
    "And finally, you'll learn how to write basic Shell scripts. This is one of the main features of the Shell, as it enables you to automate a lot of tasks. As you will see, the bash scripting language is, well, a programming language, so it is very powerful. But you will very rarely use anything more than a simple sequence of commands (perhaps with some use inputs), as it's much simpler to do everything else in Python.\n",
    "\n",
    "So with no further redo, the readings:\n",
    "1. [Pipes and filters](http://swcarpentry.github.io/shell-novice/04-pipefilter/index.html)\n",
    "2. [Permissions](http://swcarpentry.github.io/shell-extras/04-permissions/)\n",
    "3. [Downloading files](http://swcarpentry.github.io/shell-extras/03-file-transfer/)\n",
    "4. [Writing scripts](https://www.taniarascia.com/how-to-create-and-use-bash-scripts/)\n",
    "\n",
    "### Exercises\n",
    "\n",
    "#### Piping\n",
    "1. Open the terminal, navigate to the project directory. With a single command, write `Hello world` to a file called `intro.txt`.\n",
    "2. Check out what the command `cal` does (it's fun!). Ok, now using this command, **append** the current year and month to the `intro.txt` file (hint: `head`).\n",
    "3. Check out what the command `date` does. Ok, now using this command, **append** the current month and day (eg: `May 11`) to the `intro.txt` file (hint: `cut`).\n",
    "\n",
    "#### Permissions\n",
    "4. In the last chapter of this lecture, we will download a key to access the amazon servers (called (`my-key-pair.pem`). After that, we will need to set its permissions to `chmod 400 my-key-pair.pem`. Explain exactly what these permissions mean for each of the 3 user groups (hint: you would know how to do this if letters were used instead of numbers. But numbers are easy too - just open the manual for the `chmod` command and you will get all neccesary information there).\n",
    "5. If you look for tutorials on how to write bash scripts online, some will tell you to make the file executable with `chmod +x`, and some with `chmod u+x`. What is the difference between them?\n",
    "6. Go to the project directory, and check permissions for `README.md`. Copy them to the solutions, and explain exactly what they mean.\n",
    "7. Make sure only the current user can do stuff with `README.md` - remove everyone elses permissions (but leaving the current user's permissions untouched).\n",
    "8. Now give everyone read/write permissions for `README.md`.\n",
    "\n",
    "#### Downloading\n",
    "9. Let's download the famous diamonds (you'll see...) diamonds dataset. Download it from `https://github.com/mwaskom/seaborn-data/raw/master/diamonds.csv`, and use `curl`.\n",
    "10. Rename the file `diamonds_curl.csv`. You've done this using `mv`, right? Ok, now open the `curl` manual and find an option that enables you to rename the file as you download it, and do that!\n",
    "11. Repeat the previous two steps, except using `wget` (so rename `diamonds_wget`).\n",
    "12. As a foreshadowing of things to come, go to [this link](https://docs.conda.io/en/latest/miniconda.html) and copy the download link for Python 3.7 64-bit **bash** installar for your operating system. Now download this link, and rename the download `miniconda.sh` (in one command). Then, make the file executable. After that, delete the file.\n",
    "\n",
    "#### Writing scripts\n",
    "No need to write solutions here, just make sure to save all the `.sh` files in the project directory, so git can save them. Also, always make them executable. And run them to make sure they work.\n",
    "13. Write a script that does both commands of exercise 11 - save it as `ex11.sh`.\n",
    "14. Suppose you're done with the exercises, and are ready to commit and push them. Write a script that does all of this (hint: if you've read the reading, this is too easy), name it `git.sh`.\n",
    "15. Write a script that asks the user \"What day is it?\", reads what writes in the terminal, and **appends** \"Today is {whatever the user answered}\" to `intro.txt`. Name it `date.sh`."
   ]
  },
  {
   "cell_type": "markdown",
   "metadata": {},
   "source": [
    "----\n",
    "1. Write solutions (the `code`) to your exercises here, and don't forget proper\n",
    "```\n",
    "code formatting\n",
    "```"
   ]
  },
  {
   "cell_type": "markdown",
   "metadata": {},
   "source": [
    "# Conda (and virtual environments)\n",
    "\n",
    "<img src=\"Images/conda.png\" alt=\"Bash\" align=\"right\">\n",
    "\n",
    "First, what is Conda? Conda is mainly a package manager, that is, it installs and manages Python and its packages for you (well, works for some other languages too). So instead of installing Python directly on your machine (and using `pip` as the package manager), you would do it all through Conda. Why would you do that? Well, first because Conda is really easy to use, and second, because of its virtual environments.\n",
    "\n",
    "Let me start with a quick description of what environments are, and why I think they are useful (readings fill in the details). Virtual environments enable you to have multiple different \"installations\" of python (meaning versions, packages...) at the same time, and switch between them easily. For example, one such virtual environment might be called `data_analysis`, and you would install Python, Pandas and Seaborn. Another would be `machine_learning`, and you would install Python, Pandas, Scipy and Scikit-learn. You might be wondering, why not just install the union of all these packages in a single environment? To answer this question, let me explain some use cases for virtual environments:\n",
    "- You are collaborrating with multiple people on a project, and to minimize potential problems, you need to ensure that you all have the exact same packages (and exact same versions of those packages) installed on your machines\n",
    "- You mainly work on your local machine, but for some tasks you need to go to the server and to the work there.\n",
    "\n",
    "For that reason, you want only the packages you really use to be installed - otherwise you will have bloat, which will slow down installation on new machines, and may complicate debugging. Said in another way, the main advantages of using environments are:\n",
    "- **Consistency**: You can achieve the same setup on multiple machines\n",
    "- **Portability**: You can *quickly and easily* achieve the same setup on multiple machines.\n",
    "\n",
    "Ok, now for the readings. The first one gives a great introduction to the concept of virtual environments, but is quite wordy, so not suitable for a reference. The second one is purely technical - just describes how to use environments with conda. This is what you'll come back to once you already understand how virtual environments work, and just need a refresher on how to create one in Conda.\n",
    "\n",
    "1. [Introduction to Python environments with Conda](https://medium.freecodecamp.org/why-you-need-python-environments-and-how-to-manage-them-with-conda-85f155f4353c)\n",
    "2. [Manage environments - conda](https://conda.io/projects/conda/en/latest/user-guide/tasks/manage-environments.html)\n",
    "\n",
    "## Exercises\n",
    "\n",
    "OK, now that you know about conda and conda environments, it's time for you to do the entire installation process **properly** yourself, so that you know how to do it in the future (future = next section, when you will need to repeat all this on the server). As we will be messing with the conda installation, you will have to save and close this notebook. But this doesn't mean you can't view it anymore - go to the GitHub of your fork, and open the notebook there (yup, GitHub can open Jupyter notebooks). Write the answers in a text file meanwhile, and when you are done with the exercises, paste them  in the cell bellow. As always, everything should be done in the Terminal, and you should show all the commands that you use in the solutions (even the \"navigate to...\" stuff).\n",
    "\n",
    "1. Let's start by deleting conda first (so that we start from a clean slate). You delete it by deleting `miniconda3` folder in your home directory.\n",
    "2. Do exercise 11 from the previous part (i.e., download miniconda) - you should do that from your home directory, not the project directory.\n",
    "3. Now, execute the file you downloaded in the previous step - congratulations, you have installed miniconda! (Just to make sure things work properly, log out and log in after this step).\n",
    "4. Let's create an environment in which you will be working. Name the environment `data`, and make sure it has `jupyterlab` and `pandas` packages installed (they willl make sure all the dependencies - including python, are installed). Do this in one command.\n",
    "5. Cool, we have the environment! Go activate it, run jupyterlab to see that things work. Now close it again, and export the environment to `data.yml` (in the project folder, so I can see it).\n",
    "\n",
    "Alright, now let's step things up a bit, and use what we have learned from the previous part to cut out the interactive part of the installation (no more confirmations).\n",
    "6. Repeat exercises 1 and 2.\n",
    "7. Follow the [instructions for silent installation](https://conda.io/projects/conda/en/latest/user-guide/install/index.html#installing-in-silent-mode) for your operating system - we already have the downloading part done. We will replace the `export PATH=\"$HOME/miniconda/bin:$PATH\"` statement with a statement that **appends** `~/miniconda3/etc/profile.d/conda.sh` to `~/.bashrc` (hint: previous section). This makes sure that when you type `conda` in your terminal, the shell knows what to do. Log out/in after this, just to make sure.\n",
    "8. Create the `data` environment from `data.yml` file. \n",
    "9. Add the conda forge channel (which has a lot more packages than normal channel) with `conda config --add channels conda-forge`. \n",
    "10. Install the `requests` package.\n",
    "\n",
    "Now you are proficient in conda and understand how environments work, and most importantly, how to install conda and packages properly, congrats!\n",
    "11. Just to make sure you know how to use what you have installed, show which 3 commands (navigate to ..., activate ..., jup...) you would use when you turn on your computer, open a new terminal window and want to start working on the exercises from this tutorial (hint: you should **always** be using the environment you just installed). "
   ]
  },
  {
   "cell_type": "markdown",
   "metadata": {},
   "source": [
    "----\n",
    "1. Write solutions (the `code`) to your exercises here, and don't forget proper\n",
    "```\n",
    "code formatting\n",
    "```"
   ]
  },
  {
   "cell_type": "markdown",
   "metadata": {},
   "source": [
    "# AWS Servers"
   ]
  },
  {
   "cell_type": "code",
   "execution_count": null,
   "metadata": {},
   "outputs": [],
   "source": []
  },
  {
   "cell_type": "markdown",
   "metadata": {},
   "source": [
    "# Up next..."
   ]
  },
  {
   "cell_type": "code",
   "execution_count": null,
   "metadata": {},
   "outputs": [],
   "source": []
  }
 ],
 "metadata": {
  "kernelspec": {
   "display_name": "Python 3",
   "language": "python",
   "name": "python3"
  },
  "language_info": {
   "codemirror_mode": {
    "name": "ipython",
    "version": 3
   },
   "file_extension": ".py",
   "mimetype": "text/x-python",
   "name": "python",
   "nbconvert_exporter": "python",
   "pygments_lexer": "ipython3",
   "version": "3.7.3"
  }
 },
 "nbformat": 4,
 "nbformat_minor": 2
}
